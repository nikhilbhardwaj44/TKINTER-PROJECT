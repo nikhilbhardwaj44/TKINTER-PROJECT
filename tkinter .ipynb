{
 "cells": [
  {
   "cell_type": "markdown",
   "metadata": {},
   "source": [
    "# TKINTER SIMPLE PROJECT CONNECT WITH DATABASE "
   ]
  },
  {
   "cell_type": "markdown",
   "metadata": {},
   "source": [
    "TKINTER : It is a standard Python interface to the Tk GUI toolkit shipped with Python. Python with tkinter outputs the fastest and easiest way to create the GUI applications"
   ]
  },
  {
   "cell_type": "code",
   "execution_count": 2,
   "metadata": {},
   "outputs": [],
   "source": [
    "from tkinter import *\n",
    "import sqlite3\n",
    "\n",
    "root = Tk()\n",
    "#geometry method is used to set the dimensions of the Tkinter window \n",
    "root.geometry('500x500')\n",
    "root.title(\"Registration Form\")\n",
    "\n",
    "\n",
    "Fullname=StringVar()\n",
    "Email=StringVar()\n",
    "var = IntVar()\n",
    "c=StringVar()\n",
    "var1= IntVar()\n",
    "\n",
    "\n",
    "\n",
    "def database():\n",
    "   name1=Fullname.get()\n",
    "   email=Email.get()\n",
    "   gender=var.get()\n",
    "   prog=var1.get()\n",
    "   conn = sqlite3.connect('F.db')\n",
    "   with conn:\n",
    "      cursor=conn.cursor()\n",
    "   cursor.execute('CREATE TABLE IF NOT EXISTS Student (Fullname TEXT,Email TEXT,Gender TEXT)')\n",
    "   cursor.execute('INSERT INTO Student (FullName,Email,Gender) VALUES(?,?,?)',(name1,email,gender,))\n",
    "   conn.commit()\n",
    "   \n",
    "   \n",
    " # A Label is a Tkinter Widget class, which is used to display text or an image            \n",
    "label_0 = Label(root, text=\"Registration form\",width=20,font=(\"bold\", 20))\n",
    "label_0.place(x=90,y=53)\n",
    "\n",
    "\n",
    "label_1 = Label(root, text=\"FullName\",width=20,font=(\"bold\", 10))\n",
    "label_1.place(x=80,y=130)\n",
    "\n",
    "entry_1 = Entry(root,textvar=Fullname)\n",
    "entry_1.place(x=240,y=130)\n",
    "\n",
    "label_2 = Label(root, text=\"Email\",width=20,font=(\"bold\", 10))\n",
    "label_2.place(x=68,y=180)\n",
    "\n",
    "entry_2 = Entry(root,textvar=Email)\n",
    "entry_2.place(x=240,y=180)\n",
    "\n",
    "label_3 = Label(root, text=\"Gender\",width=20,font=(\"bold\", 10))\n",
    "label_3.place(x=70,y=230)\n",
    "\n",
    "Radiobutton(root, text=\"Male\",padx = 5, variable=var, value=1).place(x=235,y=230)\n",
    "Radiobutton(root, text=\"Female\",padx = 20, variable=var, value=2).place(x=290,y=230)\n",
    "\n",
    "Button(root, text='Submit',width=20,bg='brown',fg='white',command=database).place(x=180,y=380)\n",
    "\n",
    "root.mainloop()"
   ]
  }
 ],
 "metadata": {
  "kernelspec": {
   "display_name": "Python 3",
   "language": "python",
   "name": "python3"
  },
  "language_info": {
   "codemirror_mode": {
    "name": "ipython",
    "version": 3
   },
   "file_extension": ".py",
   "mimetype": "text/x-python",
   "name": "python",
   "nbconvert_exporter": "python",
   "pygments_lexer": "ipython3",
   "version": "3.7.3"
  }
 },
 "nbformat": 4,
 "nbformat_minor": 2
}
